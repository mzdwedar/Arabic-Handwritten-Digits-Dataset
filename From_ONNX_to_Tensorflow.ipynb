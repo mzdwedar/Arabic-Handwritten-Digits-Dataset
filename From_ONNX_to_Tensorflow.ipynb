{
  "nbformat": 4,
  "nbformat_minor": 0,
  "metadata": {
    "colab": {
      "name": "From ONNX to Tensorflow.ipynb",
      "provenance": [],
      "authorship_tag": "ABX9TyMIj3V3y0Uc+06BacpeNm75",
      "include_colab_link": true
    },
    "kernelspec": {
      "name": "python3",
      "display_name": "Python 3"
    },
    "language_info": {
      "name": "python"
    }
  },
  "cells": [
    {
      "cell_type": "markdown",
      "metadata": {
        "id": "view-in-github",
        "colab_type": "text"
      },
      "source": [
        "<a href=\"https://colab.research.google.com/github/mzdwedar/Arabic-Handwritten-Digits-Dataset/blob/main/From_ONNX_to_Tensorflow.ipynb\" target=\"_parent\"><img src=\"https://colab.research.google.com/assets/colab-badge.svg\" alt=\"Open In Colab\"/></a>"
      ]
    },
    {
      "cell_type": "code",
      "source": [
        "! pip install tensorflow-addons"
      ],
      "metadata": {
        "colab": {
          "base_uri": "https://localhost:8080/"
        },
        "id": "nFSHgwurueD4",
        "outputId": "e4cee127-b3b1-485c-9d39-aa03f291a9a6"
      },
      "execution_count": 4,
      "outputs": [
        {
          "output_type": "stream",
          "name": "stdout",
          "text": [
            "Requirement already satisfied: tensorflow-addons in /usr/local/lib/python3.7/dist-packages (0.15.0)\n",
            "Requirement already satisfied: typeguard>=2.7 in /usr/local/lib/python3.7/dist-packages (from tensorflow-addons) (2.7.1)\n"
          ]
        }
      ]
    },
    {
      "cell_type": "code",
      "source": [
        "!pip install numpy protobuf==3.16.0\n",
        "!pip install onnx"
      ],
      "metadata": {
        "id": "E85cS5LSt_R9"
      },
      "execution_count": null,
      "outputs": []
    },
    {
      "cell_type": "code",
      "source": [
        "! pip install onnx_tf"
      ],
      "metadata": {
        "colab": {
          "base_uri": "https://localhost:8080/"
        },
        "id": "jCL1bV2JwIXO",
        "outputId": "e5b9c4ca-57b0-494b-a0ce-6372e1787267"
      },
      "execution_count": 13,
      "outputs": [
        {
          "output_type": "stream",
          "name": "stdout",
          "text": [
            "Collecting onnx_tf\n",
            "  Downloading onnx_tf-1.9.0-py3-none-any.whl (222 kB)\n",
            "\u001b[?25l\r\u001b[K     |█▌                              | 10 kB 27.3 MB/s eta 0:00:01\r\u001b[K     |███                             | 20 kB 32.6 MB/s eta 0:00:01\r\u001b[K     |████▍                           | 30 kB 36.6 MB/s eta 0:00:01\r\u001b[K     |█████▉                          | 40 kB 38.4 MB/s eta 0:00:01\r\u001b[K     |███████▍                        | 51 kB 8.2 MB/s eta 0:00:01\r\u001b[K     |████████▉                       | 61 kB 9.5 MB/s eta 0:00:01\r\u001b[K     |██████████▎                     | 71 kB 10.8 MB/s eta 0:00:01\r\u001b[K     |███████████▊                    | 81 kB 11.9 MB/s eta 0:00:01\r\u001b[K     |█████████████▎                  | 92 kB 6.9 MB/s eta 0:00:01\r\u001b[K     |██████████████▊                 | 102 kB 7.5 MB/s eta 0:00:01\r\u001b[K     |████████████████▏               | 112 kB 7.5 MB/s eta 0:00:01\r\u001b[K     |█████████████████▋              | 122 kB 7.5 MB/s eta 0:00:01\r\u001b[K     |███████████████████▏            | 133 kB 7.5 MB/s eta 0:00:01\r\u001b[K     |████████████████████▋           | 143 kB 7.5 MB/s eta 0:00:01\r\u001b[K     |██████████████████████          | 153 kB 7.5 MB/s eta 0:00:01\r\u001b[K     |███████████████████████▌        | 163 kB 7.5 MB/s eta 0:00:01\r\u001b[K     |█████████████████████████       | 174 kB 7.5 MB/s eta 0:00:01\r\u001b[K     |██████████████████████████▌     | 184 kB 7.5 MB/s eta 0:00:01\r\u001b[K     |████████████████████████████    | 194 kB 7.5 MB/s eta 0:00:01\r\u001b[K     |█████████████████████████████▍  | 204 kB 7.5 MB/s eta 0:00:01\r\u001b[K     |███████████████████████████████ | 215 kB 7.5 MB/s eta 0:00:01\r\u001b[K     |████████████████████████████████| 222 kB 7.5 MB/s \n",
            "\u001b[?25hRequirement already satisfied: onnx>=1.9.0 in /usr/local/lib/python3.7/dist-packages (from onnx_tf) (1.10.2)\n",
            "Requirement already satisfied: tensorflow-addons in /usr/local/lib/python3.7/dist-packages (from onnx_tf) (0.15.0)\n",
            "Requirement already satisfied: PyYAML in /usr/local/lib/python3.7/dist-packages (from onnx_tf) (3.13)\n",
            "Requirement already satisfied: six in /usr/local/lib/python3.7/dist-packages (from onnx>=1.9.0->onnx_tf) (1.15.0)\n",
            "Requirement already satisfied: protobuf in /usr/local/lib/python3.7/dist-packages (from onnx>=1.9.0->onnx_tf) (3.16.0)\n",
            "Requirement already satisfied: typing-extensions>=3.6.2.1 in /usr/local/lib/python3.7/dist-packages (from onnx>=1.9.0->onnx_tf) (3.10.0.2)\n",
            "Requirement already satisfied: numpy>=1.16.6 in /usr/local/lib/python3.7/dist-packages (from onnx>=1.9.0->onnx_tf) (1.19.5)\n",
            "Requirement already satisfied: typeguard>=2.7 in /usr/local/lib/python3.7/dist-packages (from tensorflow-addons->onnx_tf) (2.7.1)\n",
            "Installing collected packages: onnx-tf\n",
            "Successfully installed onnx-tf-1.9.0\n"
          ]
        }
      ]
    },
    {
      "cell_type": "code",
      "execution_count": 16,
      "metadata": {
        "id": "ZlBTwtRjtjLK"
      },
      "outputs": [],
      "source": [
        "import onnx\n",
        "import warnings\n",
        "from onnx_tf.backend import prepare"
      ]
    },
    {
      "cell_type": "code",
      "source": [
        "warnings.filterwarnings('ignore')\n",
        "model = onnx.load('AHDD_resnet18.onnx') \n",
        "tf_rep = prepare(model) # contains: graph, inputs, outputs, and tensor_dict"
      ],
      "metadata": {
        "id": "JlN4ZwWBvV_y"
      },
      "execution_count": 27,
      "outputs": []
    },
    {
      "cell_type": "markdown",
      "source": [
        "## Inference"
      ],
      "metadata": {
        "id": "A7FmuNr_2zXU"
      }
    },
    {
      "cell_type": "code",
      "source": [
        "from PIL import Image\n",
        "import numpy as np\n"
      ],
      "metadata": {
        "id": "Mprhhq_I48u-"
      },
      "execution_count": 40,
      "outputs": []
    },
    {
      "cell_type": "code",
      "source": [
        "Image.open('digit.jpeg').resize((224, 224)) #contain '0' digit"
      ],
      "metadata": {
        "colab": {
          "base_uri": "https://localhost:8080/",
          "height": 241
        },
        "id": "jHyD3Ph_6c9G",
        "outputId": "9f2e7acc-25cb-4de0-ea67-7911851b7d7a"
      },
      "execution_count": 53,
      "outputs": [
        {
          "output_type": "execute_result",
          "data": {
            "image/png": "[encoded data removed]",
            "text/plain": [
              "<PIL.Image.Image image mode=L size=224x224 at 0x7F1F22772090>"
            ]
          },
          "metadata": {},
          "execution_count": 53
        }
      ]
    },
    {
      "cell_type": "code",
      "source": [
        "img = Image.open('digit.jpeg')"
      ],
      "metadata": {
        "id": "_Do25r4E5FD8"
      },
      "execution_count": 41,
      "outputs": []
    },
    {
      "cell_type": "code",
      "source": [
        "image = np.expand_dims(np.array(img, dtype=np.float32), axis=(0,1))"
      ],
      "metadata": {
        "id": "HTtlimpP5JUe"
      },
      "execution_count": 48,
      "outputs": []
    },
    {
      "cell_type": "code",
      "source": [
        "img = np.zeros((1,1,28,28), dtype=np.float32)"
      ],
      "metadata": {
        "id": "5aoMW9jR1nxM"
      },
      "execution_count": 38,
      "outputs": []
    },
    {
      "cell_type": "code",
      "source": [
        "preds = tf_rep.run(image)._0"
      ],
      "metadata": {
        "id": "BjsKQfUG2G0B"
      },
      "execution_count": 50,
      "outputs": []
    },
    {
      "cell_type": "code",
      "source": [
        "preds.argmax()"
      ],
      "metadata": {
        "colab": {
          "base_uri": "https://localhost:8080/"
        },
        "id": "QGKQa7EJ2Vci",
        "outputId": "14dfec95-fca9-4515-8255-57360cc6f321"
      },
      "execution_count": 52,
      "outputs": [
        {
          "output_type": "execute_result",
          "data": {
            "text/plain": [
              "0"
            ]
          },
          "metadata": {},
          "execution_count": 52
        }
      ]
    },
    {
      "cell_type": "code",
      "source": [
        "type(tf_rep)"
      ],
      "metadata": {
        "colab": {
          "base_uri": "https://localhost:8080/"
        },
        "id": "K3ebK-hw7LNf",
        "outputId": "6e6ddbc2-8f54-4928-a12e-436a80673e53"
      },
      "execution_count": 54,
      "outputs": [
        {
          "output_type": "execute_result",
          "data": {
            "text/plain": [
              "onnx_tf.backend_rep.TensorflowRep"
            ]
          },
          "metadata": {},
          "execution_count": 54
        }
      ]
    },
    {
      "cell_type": "code",
      "source": [
        ""
      ],
      "metadata": {
        "id": "J6AkXeQS7MMX"
      },
      "execution_count": null,
      "outputs": []
    }
  ]
}