{
  "cells": [
    {
      "cell_type": "markdown",
      "metadata": {
        "id": "view-in-github",
        "colab_type": "text"
      },
      "source": [
        "<a href=\"https://colab.research.google.com/github/mzdwedar/Arabic-Handwritten-Digits-Dataset/blob/main/Arabic_Handwritten_Digits_Dataset.ipynb\" target=\"_parent\"><img src=\"https://colab.research.google.com/assets/colab-badge.svg\" alt=\"Open In Colab\"/></a>"
      ]
    },
    {
      "cell_type": "markdown",
      "source": [
        "# Libraries"
      ],
      "metadata": {
        "id": "oDq-V2jroJKs"
      }
    },
    {
      "cell_type": "code",
      "source": [
        "from scipy.io import loadmat\n",
        "import pandas as pd\n",
        "from zipfile import ZipFile\n",
        "import copy\n",
        "import time\n",
        "\n",
        "import numpy as np\n",
        "import matplotlib.pyplot as plt \n",
        "\n",
        "import torchvision.transforms as T\n",
        "from torchvision.models import resnet18\n",
        "from torch.utils.data import Dataset, DataLoader\n",
        "from torch.optim import SGD, lr_scheduler\n",
        "\n",
        "import torch\n",
        "import torch.nn as nn\n",
        "from torch.nn import CrossEntropyLoss\n",
        "\n",
        "from PIL import Image\n",
        "\n",
        "from sklearn.model_selection import train_test_split"
      ],
      "metadata": {
        "id": "kup81n2XBpkO"
      },
      "execution_count": 43,
      "outputs": []
    },
    {
      "cell_type": "code",
      "execution_count": 44,
      "metadata": {
        "id": "ejLLJwJKMJdj",
        "colab": {
          "base_uri": "https://localhost:8080/"
        },
        "outputId": "cff96b79-115b-4fe8-b254-3e315016fe3e"
      },
      "outputs": [
        {
          "output_type": "stream",
          "name": "stdout",
          "text": [
            "Collecting kaggle\n",
            "  Downloading kaggle-1.5.12.tar.gz (58 kB)\n",
            "\u001b[?25l\r\u001b[K     |█████▋                          | 10 kB 18.6 MB/s eta 0:00:01\r\u001b[K     |███████████▏                    | 20 kB 23.3 MB/s eta 0:00:01\r\u001b[K     |████████████████▊               | 30 kB 18.9 MB/s eta 0:00:01\r\u001b[K     |██████████████████████▎         | 40 kB 15.4 MB/s eta 0:00:01\r\u001b[K     |███████████████████████████▉    | 51 kB 11.4 MB/s eta 0:00:01\r\u001b[K     |████████████████████████████████| 58 kB 4.3 MB/s \n",
            "\u001b[?25hBuilding wheels for collected packages: kaggle\n",
            "  Building wheel for kaggle (setup.py) ... \u001b[?25l\u001b[?25hdone\n",
            "  Created wheel for kaggle: filename=kaggle-1.5.12-py3-none-any.whl size=73051 sha256=43ea2cd8935b42150c02ec7223162a437d7ccef6cd66218f2902ffde5683efe8\n",
            "  Stored in directory: /root/.cache/pip/wheels/62/d6/58/5853130f941e75b2177d281eb7e44b4a98ed46dd155f556dc5\n",
            "Successfully built kaggle\n",
            "Installing collected packages: kaggle\n",
            "  Attempting uninstall: kaggle\n",
            "    Found existing installation: kaggle 1.5.12\n",
            "    Uninstalling kaggle-1.5.12:\n",
            "      Successfully uninstalled kaggle-1.5.12\n",
            "Successfully installed kaggle-1.5.12\n"
          ]
        }
      ],
      "source": [
        "! pip install -q kaggle\n",
        "\n",
        "! mkdir ~/.kaggle\n",
        "\n",
        "! cp kaggle.json ~/.kaggle/\n",
        "\n",
        "! chmod 600 ~/.kaggle/kaggle.json\n",
        "\n",
        "! pip install --upgrade --force-reinstall --no-deps kaggle"
      ]
    },
    {
      "cell_type": "code",
      "execution_count": 45,
      "metadata": {
        "id": "0p6jLevyMPG1",
        "colab": {
          "base_uri": "https://localhost:8080/"
        },
        "outputId": "b9d71207-d104-4bcb-d6d5-059cd5f8ed2b"
      },
      "outputs": [
        {
          "output_type": "stream",
          "name": "stdout",
          "text": [
            "Downloading ahdd1.zip to /content\n",
            " 81% 41.0M/50.6M [00:00<00:00, 51.4MB/s]\n",
            "100% 50.6M/50.6M [00:00<00:00, 55.0MB/s]\n"
          ]
        }
      ],
      "source": [
        "! kaggle  datasets download -d datasets mloey1/ahdd1"
      ]
    },
    {
      "cell_type": "code",
      "source": [
        "files = ['Train + Test Matlab.mat', 'csvTestLabel 10k x 1.csv', 'csvTrainLabel 60k x 1.csv']\n",
        "\n",
        "with ZipFile('ahdd1.zip', 'r') as zipObj:\n",
        "  for file in files:\n",
        "    zipObj.extract(file)"
      ],
      "metadata": {
        "id": "TmDZDvj_yqW_"
      },
      "execution_count": 46,
      "outputs": []
    },
    {
      "cell_type": "code",
      "execution_count": 48,
      "metadata": {
        "id": "3diPQYzSM43D",
        "colab": {
          "base_uri": "https://localhost:8080/"
        },
        "outputId": "991054b3-d3c7-4607-eee2-478149437543"
      },
      "outputs": [
        {
          "output_type": "stream",
          "name": "stderr",
          "text": [
            "/usr/local/lib/python3.7/dist-packages/scipy/io/matlab/mio.py:218: MatReadWarning: Duplicate variable name \"None\" in stream - replacing previous with new\n",
            "Consider mio5.varmats_from_mat to split file into single variable files\n",
            "  matfile_dict = MR.get_variables(variable_names)\n"
          ]
        }
      ],
      "source": [
        "data = loadmat('./Train + Test Matlab.mat')"
      ]
    },
    {
      "cell_type": "code",
      "execution_count": 49,
      "metadata": {
        "id": "u9P-RB-eNPk_"
      },
      "outputs": [],
      "source": [
        "X_train, X_test = data['XTrain'], data['XTest']"
      ]
    },
    {
      "cell_type": "code",
      "source": [
        "Y_train = pd.read_csv('csvTrainLabel 60k x 1.csv', header = None)\n",
        "Y_test = pd.read_csv('csvTestLabel 10k x 1.csv', header=None) "
      ],
      "metadata": {
        "id": "SFyJpvDMlRvn"
      },
      "execution_count": 50,
      "outputs": []
    },
    {
      "cell_type": "code",
      "source": [
        "X_train = X_train.transpose([3, 0, 1, 2])\n",
        "X_test = X_test.transpose([3, 0, 1, 2])"
      ],
      "metadata": {
        "id": "G6Fg58wMmWmf"
      },
      "execution_count": 51,
      "outputs": []
    },
    {
      "cell_type": "code",
      "source": [
        "X_val, X_test, Y_val, Y_test = train_test_split(X_test, Y_test, train_size=.9, shuffle=True)"
      ],
      "metadata": {
        "id": "jEP7mhf4cdW4"
      },
      "execution_count": 52,
      "outputs": []
    },
    {
      "cell_type": "code",
      "source": [
        "print(f'X_Train {X_train.shape}, Y_train {Y_train.shape}; X_Val {X_val.shape}, Y_Val {Y_val.shape}; X_test {X_test.shape}, Y_test {Y_test.shape}')"
      ],
      "metadata": {
        "colab": {
          "base_uri": "https://localhost:8080/"
        },
        "id": "RKINZ1yS1OiP",
        "outputId": "7f35b6c1-d51c-458f-9feb-544a52ea549f"
      },
      "execution_count": 53,
      "outputs": [
        {
          "output_type": "stream",
          "name": "stdout",
          "text": [
            "X_Train (60000, 28, 28, 1), Y_train (60000, 1); X_Val (9000, 28, 28, 1), Y_Val (9000, 1); X_test (1000, 28, 28, 1), Y_test (1000, 1)\n"
          ]
        }
      ]
    },
    {
      "cell_type": "markdown",
      "source": [
        "# Data Pipeline"
      ],
      "metadata": {
        "id": "k7rG-TiZz_0j"
      }
    },
    {
      "cell_type": "code",
      "source": [
        "transform = T.Compose([\n",
        "    T.ToTensor()\n",
        "])"
      ],
      "metadata": {
        "id": "0jK7O8_RxPGz"
      },
      "execution_count": 54,
      "outputs": []
    },
    {
      "cell_type": "code",
      "source": [
        "class CustomDataset(Dataset):\n",
        "\n",
        "  def __init__(self, images, labels, transform=None):\n",
        "    self.images = images\n",
        "    self.transform = transform\n",
        "    self.labels = labels\n",
        "\n",
        "  def __len__(self):\n",
        "    return len(self.images)\n",
        "  \n",
        "  def __getitem__(self, idx):\n",
        "    image = self.images[idx]\n",
        "    label = self.labels.iloc[idx, 0]\n",
        "\n",
        "    if(self.transform):\n",
        "      image = self.transform(image)\n",
        "\n",
        "    return image, label"
      ],
      "metadata": {
        "id": "nwogBOGDqsNU"
      },
      "execution_count": 55,
      "outputs": []
    },
    {
      "cell_type": "code",
      "source": [
        "datasets = {'train': CustomDataset(X_train, Y_train, transform),\n",
        "            'val': CustomDataset(X_val, Y_val, transform),\n",
        "            'test': CustomDataset(X_test, Y_test, transform)\n",
        "          } \n",
        "\n",
        "dataloaders = {'train': DataLoader(datasets['train'], shuffle=True, batch_size=32), \n",
        "               'val': DataLoader(datasets['val'], batch_size=32),\n",
        "               'test': DataLoader(datasets['test'], batch_size=1000)\n",
        "               }\n",
        "\n",
        "dataset_sizes = {'train': len(X_train), \n",
        "                 'val': len(X_val),\n",
        "                 'test': len(X_test)\n",
        "                 }    "
      ],
      "metadata": {
        "id": "8bH4RhzPtf-W"
      },
      "execution_count": 56,
      "outputs": []
    },
    {
      "cell_type": "markdown",
      "source": [
        "# import and configure ResNet18 "
      ],
      "metadata": {
        "id": "xt1PTrj-QlHE"
      }
    },
    {
      "cell_type": "code",
      "source": [
        "model = resnet18()"
      ],
      "metadata": {
        "id": "N2dtrNa0QoSX"
      },
      "execution_count": 103,
      "outputs": []
    },
    {
      "cell_type": "code",
      "source": [
        "model.conv1 = nn.Conv2d(1, 64, kernel_size=(7, 7), stride=(2, 2), padding=(3, 3), bias=False)\n",
        "\n",
        "num_ftrs = model.fc.in_features\n",
        "\n",
        "model.fc = nn.Linear(num_ftrs, 10)"
      ],
      "metadata": {
        "id": "-52JsE6hH5Nk"
      },
      "execution_count": 104,
      "outputs": []
    },
    {
      "cell_type": "code",
      "source": [
        "model"
      ],
      "metadata": {
        "colab": {
          "base_uri": "https://localhost:8080/"
        },
        "id": "JwV97j8lH1ZY",
        "outputId": "5e05a42d-7182-4d7e-9590-9395d6875ca9"
      },
      "execution_count": 105,
      "outputs": [
        {
          "output_type": "execute_result",
          "data": {
            "text/plain": [
              "ResNet(\n",
              "  (conv1): Conv2d(1, 64, kernel_size=(7, 7), stride=(2, 2), padding=(3, 3), bias=False)\n",
              "  (bn1): BatchNorm2d(64, eps=1e-05, momentum=0.1, affine=True, track_running_stats=True)\n",
              "  (relu): ReLU(inplace=True)\n",
              "  (maxpool): MaxPool2d(kernel_size=3, stride=2, padding=1, dilation=1, ceil_mode=False)\n",
              "  (layer1): Sequential(\n",
              "    (0): BasicBlock(\n",
              "      (conv1): Conv2d(64, 64, kernel_size=(3, 3), stride=(1, 1), padding=(1, 1), bias=False)\n",
              "      (bn1): BatchNorm2d(64, eps=1e-05, momentum=0.1, affine=True, track_running_stats=True)\n",
              "      (relu): ReLU(inplace=True)\n",
              "      (conv2): Conv2d(64, 64, kernel_size=(3, 3), stride=(1, 1), padding=(1, 1), bias=False)\n",
              "      (bn2): BatchNorm2d(64, eps=1e-05, momentum=0.1, affine=True, track_running_stats=True)\n",
              "    )\n",
              "    (1): BasicBlock(\n",
              "      (conv1): Conv2d(64, 64, kernel_size=(3, 3), stride=(1, 1), padding=(1, 1), bias=False)\n",
              "      (bn1): BatchNorm2d(64, eps=1e-05, momentum=0.1, affine=True, track_running_stats=True)\n",
              "      (relu): ReLU(inplace=True)\n",
              "      (conv2): Conv2d(64, 64, kernel_size=(3, 3), stride=(1, 1), padding=(1, 1), bias=False)\n",
              "      (bn2): BatchNorm2d(64, eps=1e-05, momentum=0.1, affine=True, track_running_stats=True)\n",
              "    )\n",
              "  )\n",
              "  (layer2): Sequential(\n",
              "    (0): BasicBlock(\n",
              "      (conv1): Conv2d(64, 128, kernel_size=(3, 3), stride=(2, 2), padding=(1, 1), bias=False)\n",
              "      (bn1): BatchNorm2d(128, eps=1e-05, momentum=0.1, affine=True, track_running_stats=True)\n",
              "      (relu): ReLU(inplace=True)\n",
              "      (conv2): Conv2d(128, 128, kernel_size=(3, 3), stride=(1, 1), padding=(1, 1), bias=False)\n",
              "      (bn2): BatchNorm2d(128, eps=1e-05, momentum=0.1, affine=True, track_running_stats=True)\n",
              "      (downsample): Sequential(\n",
              "        (0): Conv2d(64, 128, kernel_size=(1, 1), stride=(2, 2), bias=False)\n",
              "        (1): BatchNorm2d(128, eps=1e-05, momentum=0.1, affine=True, track_running_stats=True)\n",
              "      )\n",
              "    )\n",
              "    (1): BasicBlock(\n",
              "      (conv1): Conv2d(128, 128, kernel_size=(3, 3), stride=(1, 1), padding=(1, 1), bias=False)\n",
              "      (bn1): BatchNorm2d(128, eps=1e-05, momentum=0.1, affine=True, track_running_stats=True)\n",
              "      (relu): ReLU(inplace=True)\n",
              "      (conv2): Conv2d(128, 128, kernel_size=(3, 3), stride=(1, 1), padding=(1, 1), bias=False)\n",
              "      (bn2): BatchNorm2d(128, eps=1e-05, momentum=0.1, affine=True, track_running_stats=True)\n",
              "    )\n",
              "  )\n",
              "  (layer3): Sequential(\n",
              "    (0): BasicBlock(\n",
              "      (conv1): Conv2d(128, 256, kernel_size=(3, 3), stride=(2, 2), padding=(1, 1), bias=False)\n",
              "      (bn1): BatchNorm2d(256, eps=1e-05, momentum=0.1, affine=True, track_running_stats=True)\n",
              "      (relu): ReLU(inplace=True)\n",
              "      (conv2): Conv2d(256, 256, kernel_size=(3, 3), stride=(1, 1), padding=(1, 1), bias=False)\n",
              "      (bn2): BatchNorm2d(256, eps=1e-05, momentum=0.1, affine=True, track_running_stats=True)\n",
              "      (downsample): Sequential(\n",
              "        (0): Conv2d(128, 256, kernel_size=(1, 1), stride=(2, 2), bias=False)\n",
              "        (1): BatchNorm2d(256, eps=1e-05, momentum=0.1, affine=True, track_running_stats=True)\n",
              "      )\n",
              "    )\n",
              "    (1): BasicBlock(\n",
              "      (conv1): Conv2d(256, 256, kernel_size=(3, 3), stride=(1, 1), padding=(1, 1), bias=False)\n",
              "      (bn1): BatchNorm2d(256, eps=1e-05, momentum=0.1, affine=True, track_running_stats=True)\n",
              "      (relu): ReLU(inplace=True)\n",
              "      (conv2): Conv2d(256, 256, kernel_size=(3, 3), stride=(1, 1), padding=(1, 1), bias=False)\n",
              "      (bn2): BatchNorm2d(256, eps=1e-05, momentum=0.1, affine=True, track_running_stats=True)\n",
              "    )\n",
              "  )\n",
              "  (layer4): Sequential(\n",
              "    (0): BasicBlock(\n",
              "      (conv1): Conv2d(256, 512, kernel_size=(3, 3), stride=(2, 2), padding=(1, 1), bias=False)\n",
              "      (bn1): BatchNorm2d(512, eps=1e-05, momentum=0.1, affine=True, track_running_stats=True)\n",
              "      (relu): ReLU(inplace=True)\n",
              "      (conv2): Conv2d(512, 512, kernel_size=(3, 3), stride=(1, 1), padding=(1, 1), bias=False)\n",
              "      (bn2): BatchNorm2d(512, eps=1e-05, momentum=0.1, affine=True, track_running_stats=True)\n",
              "      (downsample): Sequential(\n",
              "        (0): Conv2d(256, 512, kernel_size=(1, 1), stride=(2, 2), bias=False)\n",
              "        (1): BatchNorm2d(512, eps=1e-05, momentum=0.1, affine=True, track_running_stats=True)\n",
              "      )\n",
              "    )\n",
              "    (1): BasicBlock(\n",
              "      (conv1): Conv2d(512, 512, kernel_size=(3, 3), stride=(1, 1), padding=(1, 1), bias=False)\n",
              "      (bn1): BatchNorm2d(512, eps=1e-05, momentum=0.1, affine=True, track_running_stats=True)\n",
              "      (relu): ReLU(inplace=True)\n",
              "      (conv2): Conv2d(512, 512, kernel_size=(3, 3), stride=(1, 1), padding=(1, 1), bias=False)\n",
              "      (bn2): BatchNorm2d(512, eps=1e-05, momentum=0.1, affine=True, track_running_stats=True)\n",
              "    )\n",
              "  )\n",
              "  (avgpool): AdaptiveAvgPool2d(output_size=(1, 1))\n",
              "  (fc): Linear(in_features=512, out_features=10, bias=True)\n",
              ")"
            ]
          },
          "metadata": {},
          "execution_count": 105
        }
      ]
    },
    {
      "cell_type": "markdown",
      "source": [
        "# Train Model"
      ],
      "metadata": {
        "id": "ykslgE2IOKUu"
      }
    },
    {
      "cell_type": "code",
      "source": [
        "device = torch.device(\"cuda:0\" if torch.cuda.is_available() else \"cpu\")"
      ],
      "metadata": {
        "id": "K40TNpP2TBZm"
      },
      "execution_count": 81,
      "outputs": []
    },
    {
      "cell_type": "code",
      "source": [
        "def train_model(model, optimizer, criterion, scheduler, EPOCHS):\n",
        "  \"\"\"\n",
        "  for i in epochs:\n",
        "    train phase:\n",
        "      pass the inputs through the net\n",
        "      compute the loss\n",
        "      computer gradients\n",
        "      update weights\n",
        "    \n",
        "    val phase:\n",
        "      passe the inputs through the net\n",
        "      compute the loss\n",
        "\n",
        "  returns:\n",
        "    save the weights of the best model\n",
        "  \"\"\"  \n",
        "  since = time.time()\n",
        "\n",
        "  best_model_wts = copy.deepcopy(model.state_dict())\n",
        "  best_acc = 0.0\n",
        "\n",
        "  for epoch in range(EPOCHS):\n",
        "    print('Epoch {}/{}'.format(epoch, EPOCHS - 1))\n",
        "    print('-'*10)\n",
        "\n",
        "    for phase in ['train', 'val']:\n",
        "      if(phase =='train'):\n",
        "        model.train()\n",
        "      else:\n",
        "        model.eval()\n",
        "\n",
        "      running_loss = 0.0\n",
        "      running_corrects = 0\n",
        "\n",
        "      for inputs, labels in dataloaders[phase]:\n",
        "        inputs, labels = inputs.to(device), labels.to(device)\n",
        "\n",
        "        optimizer.zero_grad()\n",
        "\n",
        "        with torch.set_grad_enabled(phase == 'train'):\n",
        "          outputs = model(inputs)\n",
        "          _ , preds = torch.max(outputs, 1)\n",
        "          loss = criterion(outputs, labels)\n",
        "    \n",
        "          if(phase =='train'):\n",
        "            loss.backward()\n",
        "            optimizer.step()\n",
        "\n",
        "        running_loss += loss.item() * inputs.size(0)\n",
        "        running_corrects += torch.sum(preds == labels.data)\n",
        "\n",
        "      if (phase == 'train'):\n",
        "        scheduler.step()\n",
        "\n",
        "      epoch_loss = running_loss / dataset_sizes[phase]\n",
        "      epoch_acc = running_corrects.double() / dataset_sizes[phase]   \n",
        "\n",
        "      print('{} Loss: {:.4f} Acc: {:.4f}'.format(phase, epoch_loss, epoch_acc))\n",
        "\n",
        "      if(phase =='val' and epoch_acc > best_acc):\n",
        "        best_acc = epoch_acc\n",
        "        best_model_wts = copy.deepcopy(model.state_dict())\n",
        "    \n",
        "    print()\n",
        "  time_elapsed = time.time() - since\n",
        "  print('Training complete in {:.0f}m {:.0f}s'.format(time_elapsed // 60, time_elapsed % 60))\n",
        "  print('Best val Acc: {:4f}'.format(best_acc))\n",
        "\n",
        "  model.load_state_dict(best_model_wts)\n",
        "  return model"
      ],
      "metadata": {
        "id": "DuqiOCWfQoPw"
      },
      "execution_count": 82,
      "outputs": []
    },
    {
      "cell_type": "code",
      "source": [
        "model = model.to(device)\n",
        "\n",
        "criterion = CrossEntropyLoss()\n",
        "\n",
        "optimizer = SGD(model.parameters(), lr=0.001, momentum=0.9)\n",
        "\n",
        "exp_lr_scheduler = lr_scheduler.StepLR(optimizer, step_size=7, gamma=0.1)\n",
        "\n",
        "EPOCHS = 2"
      ],
      "metadata": {
        "id": "IiOrHceCQoMv"
      },
      "execution_count": 83,
      "outputs": []
    },
    {
      "cell_type": "code",
      "source": [
        "model = train_model(model, optimizer, criterion, exp_lr_scheduler, EPOCHS)"
      ],
      "metadata": {
        "colab": {
          "base_uri": "https://localhost:8080/"
        },
        "id": "c4a5pHoBQoC_",
        "outputId": "b9f5f834-15e3-411b-ab63-6f0f5eef4dd9"
      },
      "execution_count": 84,
      "outputs": [
        {
          "output_type": "stream",
          "name": "stdout",
          "text": [
            "Epoch 0/1\n",
            "----------\n",
            "train Loss: 0.0838 Acc: 0.9761\n",
            "val Loss: 0.0396 Acc: 0.9878\n",
            "\n",
            "Epoch 1/1\n",
            "----------\n",
            "train Loss: 0.0246 Acc: 0.9924\n",
            "val Loss: 0.0412 Acc: 0.9888\n",
            "\n",
            "Training complete in 2m 57s\n",
            "Best val Acc: 0.988778\n"
          ]
        }
      ]
    },
    {
      "cell_type": "code",
      "source": [
        "torch.save(model.state_dict(), 'AHDD_resnet18.pt')"
      ],
      "metadata": {
        "id": "lC6pgnQPonEi"
      },
      "execution_count": 85,
      "outputs": []
    },
    {
      "cell_type": "markdown",
      "source": [
        "# Evaluate the model on test set"
      ],
      "metadata": {
        "id": "C_X_X5nKJEgh"
      }
    },
    {
      "cell_type": "code",
      "source": [
        "model.eval()\n",
        "\n",
        "inputs, labels = next(iter(dataloaders['test']))\n",
        "\n",
        "inputs, labels = inputs.to(device), labels.to(device)\n",
        "\n",
        "outputs = model(inputs)\n",
        "_, preds = torch.max(outputs, 1)\n",
        "loss = criterion(outputs, labels)\n",
        "\n",
        "corrects = torch.sum(preds == labels.data)\n",
        "acc = corrects.double() / dataset_sizes['test']  \n",
        "\n",
        "print('Acc: {} loss {}'.format(acc, loss))"
      ],
      "metadata": {
        "colab": {
          "base_uri": "https://localhost:8080/"
        },
        "id": "g3WtSqOCI5JL",
        "outputId": "ac426b71-34ad-492a-ba36-c5d3caeb1e9f"
      },
      "execution_count": 86,
      "outputs": [
        {
          "output_type": "stream",
          "name": "stdout",
          "text": [
            "Acc: 0.988 loss 0.027313798666000366\n"
          ]
        }
      ]
    },
    {
      "cell_type": "markdown",
      "source": [
        "## Visalize test set"
      ],
      "metadata": {
        "id": "xglRYrXWXUM8"
      }
    },
    {
      "cell_type": "code",
      "source": [
        "def imshow(inp, title=None):\n",
        "    \"\"\"Imshow for Tensor.\"\"\"\n",
        "    inp = inp.cpu()\n",
        "    inp = inp.numpy().transpose((1, 2, 0))\n",
        "    mean = np.array([0.485, 0.456, 0.406])\n",
        "    std = np.array([0.229, 0.224, 0.225])\n",
        "    inp = std * inp + mean\n",
        "    inp = np.clip(inp, 0, 1)\n",
        "    plt.imshow(inp)\n",
        "    if title is not None:\n",
        "        plt.title(title)\n",
        "    plt.pause(0.001)  # pause a bit so that plots are updated"
      ],
      "metadata": {
        "id": "ckfS3bg8YGjm"
      },
      "execution_count": 87,
      "outputs": []
    },
    {
      "cell_type": "code",
      "source": [
        "def visualize_model(model, num_images=10):\n",
        "    was_training = model.training\n",
        "    model.eval()\n",
        "    images_so_far = 0\n",
        "    fig = plt.figure()\n",
        "\n",
        "    with torch.no_grad():\n",
        "        for i, (inputs, labels) in enumerate(dataloaders['test']):\n",
        "            inputs = inputs.to(device)\n",
        "            labels = labels.to(device)\n",
        "\n",
        "            outputs = model(inputs)\n",
        "            _, preds = torch.max(outputs, 1)\n",
        "\n",
        "            for j in range(inputs.size()[0]):\n",
        "                images_so_far += 1\n",
        "                ax = plt.subplot(num_images//2, 2, images_so_far)\n",
        "                ax.axis('off')\n",
        "                ax.set_title('predicted: {}'.format(preds[j]))\n",
        "                imshow(inputs.cpu().data[j])\n",
        "\n",
        "                if images_so_far == num_images:\n",
        "                    model.train(mode=was_training)\n",
        "                    return\n",
        "        model.train(mode=was_training)"
      ],
      "metadata": {
        "id": "MCR8BHirXl91"
      },
      "execution_count": 88,
      "outputs": []
    },
    {
      "cell_type": "code",
      "source": [
        "visualize_model(model)"
      ],
      "metadata": {
        "colab": {
          "base_uri": "https://localhost:8080/",
          "height": 686
        },
        "id": "-mdIPwKZZ3Pq",
        "outputId": "b365b686-cbe8-43f6-b61a-1b837beabaa1"
      },
      "execution_count": 89,
      "outputs": [
        {
          "output_type": "display_data",
          "data": {
            "image/png": "[encoded data removed]",
            "text/plain": [
              "<Figure size 432x288 with 1 Axes>"
            ]
          },
          "metadata": {
            "needs_background": "light"
          }
        },
        {
          "output_type": "display_data",
          "data": {
            "image/png": "[encoded data removed]",
            "text/plain": [
              "<Figure size 432x288 with 1 Axes>"
            ]
          },
          "metadata": {
            "needs_background": "light"
          }
        },
        {
          "output_type": "display_data",
          "data": {
            "image/png": "[encoded data removed]",
            "text/plain": [
              "<Figure size 432x288 with 1 Axes>"
            ]
          },
          "metadata": {
            "needs_background": "light"
          }
        },
        {
          "output_type": "display_data",
          "data": {
            "image/png": "[encoded data removed]",
            "text/plain": [
              "<Figure size 432x288 with 1 Axes>"
            ]
          },
          "metadata": {
            "needs_background": "light"
          }
        },
        {
          "output_type": "display_data",
          "data": {
            "image/png": "[encoded data removed]",
            "text/plain": [
              "<Figure size 432x288 with 1 Axes>"
            ]
          },
          "metadata": {
            "needs_background": "light"
          }
        },
        {
          "output_type": "display_data",
          "data": {
            "image/png": "[encoded data removed]",
            "text/plain": [
              "<Figure size 432x288 with 1 Axes>"
            ]
          },
          "metadata": {
            "needs_background": "light"
          }
        },
        {
          "output_type": "display_data",
          "data": {
            "image/png": "[encoded data removed]",
            "text/plain": [
              "<Figure size 432x288 with 1 Axes>"
            ]
          },
          "metadata": {
            "needs_background": "light"
          }
        },
        {
          "output_type": "display_data",
          "data": {
            "image/png": "[encoded data removed]",
            "text/plain": [
              "<Figure size 432x288 with 1 Axes>"
            ]
          },
          "metadata": {
            "needs_background": "light"
          }
        },
        {
          "output_type": "display_data",
          "data": {
            "image/png": "[encoded data removed]",
            "text/plain": [
              "<Figure size 432x288 with 1 Axes>"
            ]
          },
          "metadata": {
            "needs_background": "light"
          }
        },
        {
          "output_type": "display_data",
          "data": {
            "image/png": "[encoded data removed]",
            "text/plain": [
              "<Figure size 432x288 with 1 Axes>"
            ]
          },
          "metadata": {
            "needs_background": "light"
          }
        }
      ]
    },
    {
      "cell_type": "markdown",
      "source": [
        "# From pytorch to ONNX"
      ],
      "metadata": {
        "id": "gnPG5F7GrNB2"
      }
    },
    {
      "cell_type": "code",
      "source": [
        "import torch"
      ],
      "metadata": {
        "id": "0HkqPDUUrWCD"
      },
      "execution_count": 90,
      "outputs": []
    },
    {
      "cell_type": "code",
      "source": [
        "len(list(model.parameters())) #hidden layers"
      ],
      "metadata": {
        "colab": {
          "base_uri": "https://localhost:8080/"
        },
        "id": "SfVODYymkF1d",
        "outputId": "4490cc0e-8fa2-4af0-c171-7e2d4b85ef31"
      },
      "execution_count": 91,
      "outputs": [
        {
          "output_type": "execute_result",
          "data": {
            "text/plain": [
              "62"
            ]
          },
          "metadata": {},
          "execution_count": 91
        }
      ]
    },
    {
      "cell_type": "code",
      "source": [
        "! pip install numpy protobuf==3.16.0\n",
        "! pip install onnx\n",
        "! pip install onnxruntime"
      ],
      "metadata": {
        "id": "5VSt6f2gx6aj",
        "colab": {
          "base_uri": "https://localhost:8080/"
        },
        "outputId": "c722d4a1-4a29-4499-ad4f-51751bd3d5f6"
      },
      "execution_count": 36,
      "outputs": [
        {
          "output_type": "stream",
          "name": "stdout",
          "text": [
            "Requirement already satisfied: numpy in /usr/local/lib/python3.7/dist-packages (1.19.5)\n",
            "Requirement already satisfied: protobuf==3.16.0 in /usr/local/lib/python3.7/dist-packages (3.16.0)\n",
            "Requirement already satisfied: six>=1.9 in /usr/local/lib/python3.7/dist-packages (from protobuf==3.16.0) (1.15.0)\n",
            "Requirement already satisfied: onnx in /usr/local/lib/python3.7/dist-packages (1.10.2)\n",
            "Requirement already satisfied: protobuf in /usr/local/lib/python3.7/dist-packages (from onnx) (3.16.0)\n",
            "Requirement already satisfied: six in /usr/local/lib/python3.7/dist-packages (from onnx) (1.15.0)\n",
            "Requirement already satisfied: typing-extensions>=3.6.2.1 in /usr/local/lib/python3.7/dist-packages (from onnx) (3.10.0.2)\n",
            "Requirement already satisfied: numpy>=1.16.6 in /usr/local/lib/python3.7/dist-packages (from onnx) (1.19.5)\n",
            "Requirement already satisfied: onnxruntime in /usr/local/lib/python3.7/dist-packages (1.10.0)\n",
            "Requirement already satisfied: protobuf in /usr/local/lib/python3.7/dist-packages (from onnxruntime) (3.16.0)\n",
            "Requirement already satisfied: flatbuffers in /usr/local/lib/python3.7/dist-packages (from onnxruntime) (2.0)\n",
            "Requirement already satisfied: numpy>=1.16.6 in /usr/local/lib/python3.7/dist-packages (from onnxruntime) (1.19.5)\n",
            "Requirement already satisfied: six>=1.9 in /usr/local/lib/python3.7/dist-packages (from protobuf->onnxruntime) (1.15.0)\n"
          ]
        }
      ]
    },
    {
      "cell_type": "code",
      "source": [
        "device = torch.device(\"cuda:0\" if torch.cuda.is_available() else \"cpu\")\n",
        "device"
      ],
      "metadata": {
        "colab": {
          "base_uri": "https://localhost:8080/"
        },
        "id": "7SV4MaV3kutQ",
        "outputId": "4a5c72c1-01ba-49c4-88ec-c15dc3e708e2"
      },
      "execution_count": 92,
      "outputs": [
        {
          "output_type": "execute_result",
          "data": {
            "text/plain": [
              "device(type='cuda', index=0)"
            ]
          },
          "metadata": {},
          "execution_count": 92
        }
      ]
    },
    {
      "cell_type": "code",
      "source": [
        "model.load_state_dict(torch.load('AHDD_resnet18.pt'))"
      ],
      "metadata": {
        "colab": {
          "base_uri": "https://localhost:8080/"
        },
        "id": "Y4pkUAuljfRk",
        "outputId": "e1a266fe-86d0-4567-de21-922513d5ad51"
      },
      "execution_count": 106,
      "outputs": [
        {
          "output_type": "execute_result",
          "data": {
            "text/plain": [
              "<All keys matched successfully>"
            ]
          },
          "metadata": {},
          "execution_count": 106
        }
      ]
    },
    {
      "cell_type": "code",
      "source": [
        "model.to(device)"
      ],
      "metadata": {
        "id": "mPbzT2Mdl2nC"
      },
      "execution_count": null,
      "outputs": []
    },
    {
      "cell_type": "code",
      "source": [
        "dummy_input = torch.rand(32, 1, 28, 28).to(device)\n",
        "\n",
        "model(dummy_input).shape"
      ],
      "metadata": {
        "colab": {
          "base_uri": "https://localhost:8080/"
        },
        "id": "5RYLs87Tlxen",
        "outputId": "13703182-fbc3-4551-f6b9-a862d946e2f9"
      },
      "execution_count": 77,
      "outputs": [
        {
          "output_type": "execute_result",
          "data": {
            "text/plain": [
              "torch.Size([32, 10])"
            ]
          },
          "metadata": {},
          "execution_count": 77
        }
      ]
    },
    {
      "cell_type": "code",
      "source": [
        "num_layers = len(list(model.parameters()))  \n",
        "num_layers"
      ],
      "metadata": {
        "id": "YMfijaMtsUc_",
        "colab": {
          "base_uri": "https://localhost:8080/"
        },
        "outputId": "31baa14a-6c86-4ea7-fbf9-9754540f2e36"
      },
      "execution_count": 109,
      "outputs": [
        {
          "output_type": "execute_result",
          "data": {
            "text/plain": [
              "62"
            ]
          },
          "metadata": {},
          "execution_count": 109
        }
      ]
    },
    {
      "cell_type": "code",
      "source": [
        "dummy_input = torch.rand(1, 1, 28, 28).to(device)\n",
        "model = model.to(device)\n",
        "input_names = [ \"actual_input_1\" ] + [ \"learned_%d\" % i for i in range(num_layers) ]\n",
        "output_names = [ \"output1\" ]\n",
        "torch.onnx.export(model, dummy_input, \"resnet.onnx\", verbose=True, input_names=input_names, output_names=output_names)"
      ],
      "metadata": {
        "id": "KjzWazH9rQBk",
        "colab": {
          "base_uri": "https://localhost:8080/"
        },
        "outputId": "a491b18d-eeb5-4f3d-c31f-0938368f6f26"
      },
      "execution_count": 110,
      "outputs": [
        {
          "output_type": "stream",
          "name": "stdout",
          "text": [
            "graph(%actual_input_1 : Float(1, 1, 28, 28, strides=[784, 784, 28, 1], requires_grad=0, device=cuda:0),\n",
            "      %fc.weight : Float(10, 512, strides=[512, 1], requires_grad=1, device=cuda:0),\n",
            "      %fc.bias : Float(10, strides=[1], requires_grad=1, device=cuda:0),\n",
            "      %193 : Float(64, 1, 7, 7, strides=[49, 49, 7, 1], requires_grad=0, device=cuda:0),\n",
            "      %194 : Float(64, strides=[1], requires_grad=0, device=cuda:0),\n",
            "      %196 : Float(64, 64, 3, 3, strides=[576, 9, 3, 1], requires_grad=0, device=cuda:0),\n",
            "      %197 : Float(64, strides=[1], requires_grad=0, device=cuda:0),\n",
            "      %199 : Float(64, 64, 3, 3, strides=[576, 9, 3, 1], requires_grad=0, device=cuda:0),\n",
            "      %200 : Float(64, strides=[1], requires_grad=0, device=cuda:0),\n",
            "      %202 : Float(64, 64, 3, 3, strides=[576, 9, 3, 1], requires_grad=0, device=cuda:0),\n",
            "      %203 : Float(64, strides=[1], requires_grad=0, device=cuda:0),\n",
            "      %205 : Float(64, 64, 3, 3, strides=[576, 9, 3, 1], requires_grad=0, device=cuda:0),\n",
            "      %206 : Float(64, strides=[1], requires_grad=0, device=cuda:0),\n",
            "      %208 : Float(128, 64, 3, 3, strides=[576, 9, 3, 1], requires_grad=0, device=cuda:0),\n",
            "      %209 : Float(128, strides=[1], requires_grad=0, device=cuda:0),\n",
            "      %211 : Float(128, 128, 3, 3, strides=[1152, 9, 3, 1], requires_grad=0, device=cuda:0),\n",
            "      %212 : Float(128, strides=[1], requires_grad=0, device=cuda:0),\n",
            "      %214 : Float(128, 64, 1, 1, strides=[64, 1, 1, 1], requires_grad=0, device=cuda:0),\n",
            "      %215 : Float(128, strides=[1], requires_grad=0, device=cuda:0),\n",
            "      %217 : Float(128, 128, 3, 3, strides=[1152, 9, 3, 1], requires_grad=0, device=cuda:0),\n",
            "      %218 : Float(128, strides=[1], requires_grad=0, device=cuda:0),\n",
            "      %220 : Float(128, 128, 3, 3, strides=[1152, 9, 3, 1], requires_grad=0, device=cuda:0),\n",
            "      %221 : Float(128, strides=[1], requires_grad=0, device=cuda:0),\n",
            "      %223 : Float(256, 128, 3, 3, strides=[1152, 9, 3, 1], requires_grad=0, device=cuda:0),\n",
            "      %224 : Float(256, strides=[1], requires_grad=0, device=cuda:0),\n",
            "      %226 : Float(256, 256, 3, 3, strides=[2304, 9, 3, 1], requires_grad=0, device=cuda:0),\n",
            "      %227 : Float(256, strides=[1], requires_grad=0, device=cuda:0),\n",
            "      %229 : Float(256, 128, 1, 1, strides=[128, 1, 1, 1], requires_grad=0, device=cuda:0),\n",
            "      %230 : Float(256, strides=[1], requires_grad=0, device=cuda:0),\n",
            "      %232 : Float(256, 256, 3, 3, strides=[2304, 9, 3, 1], requires_grad=0, device=cuda:0),\n",
            "      %233 : Float(256, strides=[1], requires_grad=0, device=cuda:0),\n",
            "      %235 : Float(256, 256, 3, 3, strides=[2304, 9, 3, 1], requires_grad=0, device=cuda:0),\n",
            "      %236 : Float(256, strides=[1], requires_grad=0, device=cuda:0),\n",
            "      %238 : Float(512, 256, 3, 3, strides=[2304, 9, 3, 1], requires_grad=0, device=cuda:0),\n",
            "      %239 : Float(512, strides=[1], requires_grad=0, device=cuda:0),\n",
            "      %241 : Float(512, 512, 3, 3, strides=[4608, 9, 3, 1], requires_grad=0, device=cuda:0),\n",
            "      %242 : Float(512, strides=[1], requires_grad=0, device=cuda:0),\n",
            "      %244 : Float(512, 256, 1, 1, strides=[256, 1, 1, 1], requires_grad=0, device=cuda:0),\n",
            "      %245 : Float(512, strides=[1], requires_grad=0, device=cuda:0),\n",
            "      %247 : Float(512, 512, 3, 3, strides=[4608, 9, 3, 1], requires_grad=0, device=cuda:0),\n",
            "      %248 : Float(512, strides=[1], requires_grad=0, device=cuda:0),\n",
            "      %250 : Float(512, 512, 3, 3, strides=[4608, 9, 3, 1], requires_grad=0, device=cuda:0),\n",
            "      %251 : Float(512, strides=[1], requires_grad=0, device=cuda:0)):\n",
            "  %192 : Float(1, 64, 14, 14, strides=[12544, 196, 14, 1], requires_grad=1, device=cuda:0) = onnx::Conv[dilations=[1, 1], group=1, kernel_shape=[7, 7], pads=[3, 3, 3, 3], strides=[2, 2]](%actual_input_1, %193, %194)\n",
            "  %125 : Float(1, 64, 14, 14, strides=[12544, 196, 14, 1], requires_grad=1, device=cuda:0) = onnx::Relu(%192) # /usr/local/lib/python3.7/dist-packages/torch/nn/functional.py:1297:0\n",
            "  %126 : Float(1, 64, 7, 7, strides=[3136, 49, 7, 1], requires_grad=1, device=cuda:0) = onnx::MaxPool[kernel_shape=[3, 3], pads=[1, 1, 1, 1], strides=[2, 2]](%125)\n",
            "  %195 : Float(1, 64, 7, 7, strides=[3136, 49, 7, 1], requires_grad=1, device=cuda:0) = onnx::Conv[dilations=[1, 1], group=1, kernel_shape=[3, 3], pads=[1, 1, 1, 1], strides=[1, 1]](%126, %196, %197)\n",
            "  %129 : Float(1, 64, 7, 7, strides=[3136, 49, 7, 1], requires_grad=1, device=cuda:0) = onnx::Relu(%195) # /usr/local/lib/python3.7/dist-packages/torch/nn/functional.py:1297:0\n",
            "  %198 : Float(1, 64, 7, 7, strides=[3136, 49, 7, 1], requires_grad=1, device=cuda:0) = onnx::Conv[dilations=[1, 1], group=1, kernel_shape=[3, 3], pads=[1, 1, 1, 1], strides=[1, 1]](%129, %199, %200)\n",
            "  %132 : Float(1, 64, 7, 7, strides=[3136, 49, 7, 1], requires_grad=1, device=cuda:0) = onnx::Add(%198, %126) # /usr/local/lib/python3.7/dist-packages/torchvision/models/resnet.py:80:0\n",
            "  %133 : Float(1, 64, 7, 7, strides=[3136, 49, 7, 1], requires_grad=1, device=cuda:0) = onnx::Relu(%132)\n",
            "  %201 : Float(1, 64, 7, 7, strides=[3136, 49, 7, 1], requires_grad=1, device=cuda:0) = onnx::Conv[dilations=[1, 1], group=1, kernel_shape=[3, 3], pads=[1, 1, 1, 1], strides=[1, 1]](%133, %202, %203)\n",
            "  %136 : Float(1, 64, 7, 7, strides=[3136, 49, 7, 1], requires_grad=1, device=cuda:0) = onnx::Relu(%201) # /usr/local/lib/python3.7/dist-packages/torch/nn/functional.py:1297:0\n",
            "  %204 : Float(1, 64, 7, 7, strides=[3136, 49, 7, 1], requires_grad=1, device=cuda:0) = onnx::Conv[dilations=[1, 1], group=1, kernel_shape=[3, 3], pads=[1, 1, 1, 1], strides=[1, 1]](%136, %205, %206)\n",
            "  %139 : Float(1, 64, 7, 7, strides=[3136, 49, 7, 1], requires_grad=1, device=cuda:0) = onnx::Add(%204, %133) # /usr/local/lib/python3.7/dist-packages/torchvision/models/resnet.py:80:0\n",
            "  %140 : Float(1, 64, 7, 7, strides=[3136, 49, 7, 1], requires_grad=1, device=cuda:0) = onnx::Relu(%139) # /usr/local/lib/python3.7/dist-packages/torch/nn/functional.py:1297:0\n",
            "  %207 : Float(1, 128, 4, 4, strides=[2048, 16, 4, 1], requires_grad=1, device=cuda:0) = onnx::Conv[dilations=[1, 1], group=1, kernel_shape=[3, 3], pads=[1, 1, 1, 1], strides=[2, 2]](%140, %208, %209)\n",
            "  %143 : Float(1, 128, 4, 4, strides=[2048, 16, 4, 1], requires_grad=1, device=cuda:0) = onnx::Relu(%207) # /usr/local/lib/python3.7/dist-packages/torch/nn/functional.py:1297:0\n",
            "  %210 : Float(1, 128, 4, 4, strides=[2048, 16, 4, 1], requires_grad=1, device=cuda:0) = onnx::Conv[dilations=[1, 1], group=1, kernel_shape=[3, 3], pads=[1, 1, 1, 1], strides=[1, 1]](%143, %211, %212)\n",
            "  %213 : Float(1, 128, 4, 4, strides=[2048, 16, 4, 1], requires_grad=1, device=cuda:0) = onnx::Conv[dilations=[1, 1], group=1, kernel_shape=[1, 1], pads=[0, 0, 0, 0], strides=[2, 2]](%140, %214, %215)\n",
            "  %148 : Float(1, 128, 4, 4, strides=[2048, 16, 4, 1], requires_grad=1, device=cuda:0) = onnx::Add(%210, %213) # /usr/local/lib/python3.7/dist-packages/torchvision/models/resnet.py:80:0\n",
            "  %149 : Float(1, 128, 4, 4, strides=[2048, 16, 4, 1], requires_grad=1, device=cuda:0) = onnx::Relu(%148)\n",
            "  %216 : Float(1, 128, 4, 4, strides=[2048, 16, 4, 1], requires_grad=1, device=cuda:0) = onnx::Conv[dilations=[1, 1], group=1, kernel_shape=[3, 3], pads=[1, 1, 1, 1], strides=[1, 1]](%149, %217, %218)\n",
            "  %152 : Float(1, 128, 4, 4, strides=[2048, 16, 4, 1], requires_grad=1, device=cuda:0) = onnx::Relu(%216) # /usr/local/lib/python3.7/dist-packages/torch/nn/functional.py:1297:0\n",
            "  %219 : Float(1, 128, 4, 4, strides=[2048, 16, 4, 1], requires_grad=1, device=cuda:0) = onnx::Conv[dilations=[1, 1], group=1, kernel_shape=[3, 3], pads=[1, 1, 1, 1], strides=[1, 1]](%152, %220, %221)\n",
            "  %155 : Float(1, 128, 4, 4, strides=[2048, 16, 4, 1], requires_grad=1, device=cuda:0) = onnx::Add(%219, %149) # /usr/local/lib/python3.7/dist-packages/torchvision/models/resnet.py:80:0\n",
            "  %156 : Float(1, 128, 4, 4, strides=[2048, 16, 4, 1], requires_grad=1, device=cuda:0) = onnx::Relu(%155) # /usr/local/lib/python3.7/dist-packages/torch/nn/functional.py:1297:0\n",
            "  %222 : Float(1, 256, 2, 2, strides=[1024, 4, 2, 1], requires_grad=1, device=cuda:0) = onnx::Conv[dilations=[1, 1], group=1, kernel_shape=[3, 3], pads=[1, 1, 1, 1], strides=[2, 2]](%156, %223, %224)\n",
            "  %159 : Float(1, 256, 2, 2, strides=[1024, 4, 2, 1], requires_grad=1, device=cuda:0) = onnx::Relu(%222) # /usr/local/lib/python3.7/dist-packages/torch/nn/functional.py:1297:0\n",
            "  %225 : Float(1, 256, 2, 2, strides=[1024, 4, 2, 1], requires_grad=1, device=cuda:0) = onnx::Conv[dilations=[1, 1], group=1, kernel_shape=[3, 3], pads=[1, 1, 1, 1], strides=[1, 1]](%159, %226, %227)\n",
            "  %228 : Float(1, 256, 2, 2, strides=[1024, 4, 2, 1], requires_grad=1, device=cuda:0) = onnx::Conv[dilations=[1, 1], group=1, kernel_shape=[1, 1], pads=[0, 0, 0, 0], strides=[2, 2]](%156, %229, %230)\n",
            "  %164 : Float(1, 256, 2, 2, strides=[1024, 4, 2, 1], requires_grad=1, device=cuda:0) = onnx::Add(%225, %228) # /usr/local/lib/python3.7/dist-packages/torchvision/models/resnet.py:80:0\n",
            "  %165 : Float(1, 256, 2, 2, strides=[1024, 4, 2, 1], requires_grad=1, device=cuda:0) = onnx::Relu(%164)\n",
            "  %231 : Float(1, 256, 2, 2, strides=[1024, 4, 2, 1], requires_grad=1, device=cuda:0) = onnx::Conv[dilations=[1, 1], group=1, kernel_shape=[3, 3], pads=[1, 1, 1, 1], strides=[1, 1]](%165, %232, %233)\n",
            "  %168 : Float(1, 256, 2, 2, strides=[1024, 4, 2, 1], requires_grad=1, device=cuda:0) = onnx::Relu(%231) # /usr/local/lib/python3.7/dist-packages/torch/nn/functional.py:1297:0\n",
            "  %234 : Float(1, 256, 2, 2, strides=[1024, 4, 2, 1], requires_grad=1, device=cuda:0) = onnx::Conv[dilations=[1, 1], group=1, kernel_shape=[3, 3], pads=[1, 1, 1, 1], strides=[1, 1]](%168, %235, %236)\n",
            "  %171 : Float(1, 256, 2, 2, strides=[1024, 4, 2, 1], requires_grad=1, device=cuda:0) = onnx::Add(%234, %165) # /usr/local/lib/python3.7/dist-packages/torchvision/models/resnet.py:80:0\n",
            "  %172 : Float(1, 256, 2, 2, strides=[1024, 4, 2, 1], requires_grad=1, device=cuda:0) = onnx::Relu(%171) # /usr/local/lib/python3.7/dist-packages/torch/nn/functional.py:1297:0\n",
            "  %237 : Float(1, 512, 1, 1, strides=[512, 1, 1, 1], requires_grad=1, device=cuda:0) = onnx::Conv[dilations=[1, 1], group=1, kernel_shape=[3, 3], pads=[1, 1, 1, 1], strides=[2, 2]](%172, %238, %239)\n",
            "  %175 : Float(1, 512, 1, 1, strides=[512, 1, 1, 1], requires_grad=1, device=cuda:0) = onnx::Relu(%237) # /usr/local/lib/python3.7/dist-packages/torch/nn/functional.py:1297:0\n",
            "  %240 : Float(1, 512, 1, 1, strides=[512, 1, 1, 1], requires_grad=1, device=cuda:0) = onnx::Conv[dilations=[1, 1], group=1, kernel_shape=[3, 3], pads=[1, 1, 1, 1], strides=[1, 1]](%175, %241, %242)\n",
            "  %243 : Float(1, 512, 1, 1, strides=[512, 1, 1, 1], requires_grad=1, device=cuda:0) = onnx::Conv[dilations=[1, 1], group=1, kernel_shape=[1, 1], pads=[0, 0, 0, 0], strides=[2, 2]](%172, %244, %245)\n",
            "  %180 : Float(1, 512, 1, 1, strides=[512, 1, 1, 1], requires_grad=1, device=cuda:0) = onnx::Add(%240, %243) # /usr/local/lib/python3.7/dist-packages/torchvision/models/resnet.py:80:0\n",
            "  %181 : Float(1, 512, 1, 1, strides=[512, 1, 1, 1], requires_grad=1, device=cuda:0) = onnx::Relu(%180)\n",
            "  %246 : Float(1, 512, 1, 1, strides=[512, 1, 1, 1], requires_grad=1, device=cuda:0) = onnx::Conv[dilations=[1, 1], group=1, kernel_shape=[3, 3], pads=[1, 1, 1, 1], strides=[1, 1]](%181, %247, %248)\n",
            "  %184 : Float(1, 512, 1, 1, strides=[512, 1, 1, 1], requires_grad=1, device=cuda:0) = onnx::Relu(%246) # /usr/local/lib/python3.7/dist-packages/torch/nn/functional.py:1297:0\n",
            "  %249 : Float(1, 512, 1, 1, strides=[512, 1, 1, 1], requires_grad=1, device=cuda:0) = onnx::Conv[dilations=[1, 1], group=1, kernel_shape=[3, 3], pads=[1, 1, 1, 1], strides=[1, 1]](%184, %250, %251)\n",
            "  %187 : Float(1, 512, 1, 1, strides=[512, 1, 1, 1], requires_grad=1, device=cuda:0) = onnx::Add(%249, %181) # /usr/local/lib/python3.7/dist-packages/torchvision/models/resnet.py:80:0\n",
            "  %188 : Float(1, 512, 1, 1, strides=[512, 1, 1, 1], requires_grad=1, device=cuda:0) = onnx::Relu(%187) # /usr/local/lib/python3.7/dist-packages/torch/nn/functional.py:1297:0\n",
            "  %189 : Float(1, 512, 1, 1, strides=[512, 1, 1, 1], requires_grad=1, device=cuda:0) = onnx::GlobalAveragePool(%188) # /usr/local/lib/python3.7/dist-packages/torch/nn/functional.py:1131:0\n",
            "  %190 : Float(1, 512, strides=[512, 1], requires_grad=1, device=cuda:0) = onnx::Flatten[axis=1](%189) # /usr/local/lib/python3.7/dist-packages/torchvision/models/resnet.py:243:0\n",
            "  %output1 : Float(1, 10, strides=[10, 1], requires_grad=1, device=cuda:0) = onnx::Gemm[alpha=1., beta=1., transB=1](%190, %fc.weight, %fc.bias) # /usr/local/lib/python3.7/dist-packages/torch/nn/functional.py:1848:0\n",
            "  return (%output1)\n",
            "\n"
          ]
        }
      ]
    },
    {
      "cell_type": "code",
      "source": [
        "import onnx\n",
        "\n",
        "onnx_model = onnx.load(\"resnet.onnx\")\n",
        "\n",
        "onnx.checker.check_model(onnx_model)\n",
        "\n",
        "print(onnx.helper.printable_graph(onnx_model.graph))"
      ],
      "metadata": {
        "id": "wqEHWjxwrPuk",
        "colab": {
          "base_uri": "https://localhost:8080/"
        },
        "outputId": "c55444b6-5ca9-4586-8497-629c8db957b3"
      },
      "execution_count": 111,
      "outputs": [
        {
          "output_type": "stream",
          "name": "stdout",
          "text": [
            "graph torch-jit-export (\n",
            "  %actual_input_1[FLOAT, 1x1x28x28]\n",
            ") initializers (\n",
            "  %fc.weight[FLOAT, 10x512]\n",
            "  %fc.bias[FLOAT, 10]\n",
            "  %193[FLOAT, 64x1x7x7]\n",
            "  %194[FLOAT, 64]\n",
            "  %196[FLOAT, 64x64x3x3]\n",
            "  %197[FLOAT, 64]\n",
            "  %199[FLOAT, 64x64x3x3]\n",
            "  %200[FLOAT, 64]\n",
            "  %202[FLOAT, 64x64x3x3]\n",
            "  %203[FLOAT, 64]\n",
            "  %205[FLOAT, 64x64x3x3]\n",
            "  %206[FLOAT, 64]\n",
            "  %208[FLOAT, 128x64x3x3]\n",
            "  %209[FLOAT, 128]\n",
            "  %211[FLOAT, 128x128x3x3]\n",
            "  %212[FLOAT, 128]\n",
            "  %214[FLOAT, 128x64x1x1]\n",
            "  %215[FLOAT, 128]\n",
            "  %217[FLOAT, 128x128x3x3]\n",
            "  %218[FLOAT, 128]\n",
            "  %220[FLOAT, 128x128x3x3]\n",
            "  %221[FLOAT, 128]\n",
            "  %223[FLOAT, 256x128x3x3]\n",
            "  %224[FLOAT, 256]\n",
            "  %226[FLOAT, 256x256x3x3]\n",
            "  %227[FLOAT, 256]\n",
            "  %229[FLOAT, 256x128x1x1]\n",
            "  %230[FLOAT, 256]\n",
            "  %232[FLOAT, 256x256x3x3]\n",
            "  %233[FLOAT, 256]\n",
            "  %235[FLOAT, 256x256x3x3]\n",
            "  %236[FLOAT, 256]\n",
            "  %238[FLOAT, 512x256x3x3]\n",
            "  %239[FLOAT, 512]\n",
            "  %241[FLOAT, 512x512x3x3]\n",
            "  %242[FLOAT, 512]\n",
            "  %244[FLOAT, 512x256x1x1]\n",
            "  %245[FLOAT, 512]\n",
            "  %247[FLOAT, 512x512x3x3]\n",
            "  %248[FLOAT, 512]\n",
            "  %250[FLOAT, 512x512x3x3]\n",
            "  %251[FLOAT, 512]\n",
            ") {\n",
            "  %192 = Conv[dilations = [1, 1], group = 1, kernel_shape = [7, 7], pads = [3, 3, 3, 3], strides = [2, 2]](%actual_input_1, %193, %194)\n",
            "  %125 = Relu(%192)\n",
            "  %126 = MaxPool[kernel_shape = [3, 3], pads = [1, 1, 1, 1], strides = [2, 2]](%125)\n",
            "  %195 = Conv[dilations = [1, 1], group = 1, kernel_shape = [3, 3], pads = [1, 1, 1, 1], strides = [1, 1]](%126, %196, %197)\n",
            "  %129 = Relu(%195)\n",
            "  %198 = Conv[dilations = [1, 1], group = 1, kernel_shape = [3, 3], pads = [1, 1, 1, 1], strides = [1, 1]](%129, %199, %200)\n",
            "  %132 = Add(%198, %126)\n",
            "  %133 = Relu(%132)\n",
            "  %201 = Conv[dilations = [1, 1], group = 1, kernel_shape = [3, 3], pads = [1, 1, 1, 1], strides = [1, 1]](%133, %202, %203)\n",
            "  %136 = Relu(%201)\n",
            "  %204 = Conv[dilations = [1, 1], group = 1, kernel_shape = [3, 3], pads = [1, 1, 1, 1], strides = [1, 1]](%136, %205, %206)\n",
            "  %139 = Add(%204, %133)\n",
            "  %140 = Relu(%139)\n",
            "  %207 = Conv[dilations = [1, 1], group = 1, kernel_shape = [3, 3], pads = [1, 1, 1, 1], strides = [2, 2]](%140, %208, %209)\n",
            "  %143 = Relu(%207)\n",
            "  %210 = Conv[dilations = [1, 1], group = 1, kernel_shape = [3, 3], pads = [1, 1, 1, 1], strides = [1, 1]](%143, %211, %212)\n",
            "  %213 = Conv[dilations = [1, 1], group = 1, kernel_shape = [1, 1], pads = [0, 0, 0, 0], strides = [2, 2]](%140, %214, %215)\n",
            "  %148 = Add(%210, %213)\n",
            "  %149 = Relu(%148)\n",
            "  %216 = Conv[dilations = [1, 1], group = 1, kernel_shape = [3, 3], pads = [1, 1, 1, 1], strides = [1, 1]](%149, %217, %218)\n",
            "  %152 = Relu(%216)\n",
            "  %219 = Conv[dilations = [1, 1], group = 1, kernel_shape = [3, 3], pads = [1, 1, 1, 1], strides = [1, 1]](%152, %220, %221)\n",
            "  %155 = Add(%219, %149)\n",
            "  %156 = Relu(%155)\n",
            "  %222 = Conv[dilations = [1, 1], group = 1, kernel_shape = [3, 3], pads = [1, 1, 1, 1], strides = [2, 2]](%156, %223, %224)\n",
            "  %159 = Relu(%222)\n",
            "  %225 = Conv[dilations = [1, 1], group = 1, kernel_shape = [3, 3], pads = [1, 1, 1, 1], strides = [1, 1]](%159, %226, %227)\n",
            "  %228 = Conv[dilations = [1, 1], group = 1, kernel_shape = [1, 1], pads = [0, 0, 0, 0], strides = [2, 2]](%156, %229, %230)\n",
            "  %164 = Add(%225, %228)\n",
            "  %165 = Relu(%164)\n",
            "  %231 = Conv[dilations = [1, 1], group = 1, kernel_shape = [3, 3], pads = [1, 1, 1, 1], strides = [1, 1]](%165, %232, %233)\n",
            "  %168 = Relu(%231)\n",
            "  %234 = Conv[dilations = [1, 1], group = 1, kernel_shape = [3, 3], pads = [1, 1, 1, 1], strides = [1, 1]](%168, %235, %236)\n",
            "  %171 = Add(%234, %165)\n",
            "  %172 = Relu(%171)\n",
            "  %237 = Conv[dilations = [1, 1], group = 1, kernel_shape = [3, 3], pads = [1, 1, 1, 1], strides = [2, 2]](%172, %238, %239)\n",
            "  %175 = Relu(%237)\n",
            "  %240 = Conv[dilations = [1, 1], group = 1, kernel_shape = [3, 3], pads = [1, 1, 1, 1], strides = [1, 1]](%175, %241, %242)\n",
            "  %243 = Conv[dilations = [1, 1], group = 1, kernel_shape = [1, 1], pads = [0, 0, 0, 0], strides = [2, 2]](%172, %244, %245)\n",
            "  %180 = Add(%240, %243)\n",
            "  %181 = Relu(%180)\n",
            "  %246 = Conv[dilations = [1, 1], group = 1, kernel_shape = [3, 3], pads = [1, 1, 1, 1], strides = [1, 1]](%181, %247, %248)\n",
            "  %184 = Relu(%246)\n",
            "  %249 = Conv[dilations = [1, 1], group = 1, kernel_shape = [3, 3], pads = [1, 1, 1, 1], strides = [1, 1]](%184, %250, %251)\n",
            "  %187 = Add(%249, %181)\n",
            "  %188 = Relu(%187)\n",
            "  %189 = GlobalAveragePool(%188)\n",
            "  %190 = Flatten[axis = 1](%189)\n",
            "  %output1 = Gemm[alpha = 1, beta = 1, transB = 1](%190, %fc.weight, %fc.bias)\n",
            "  return %output1\n",
            "}\n"
          ]
        }
      ]
    },
    {
      "cell_type": "code",
      "source": [
        "import onnxruntime as ort"
      ],
      "metadata": {
        "id": "-ObgIdPnyQQ9"
      },
      "execution_count": 112,
      "outputs": []
    },
    {
      "cell_type": "code",
      "source": [
        "ort_session = ort.InferenceSession(\"resnet.onnx\")\n",
        "\n",
        "outputs = ort_session.run(\n",
        "    None,\n",
        "    {\"actual_input_1\": np.random.randn(1, 1, 28, 28).astype(np.float32)},\n",
        ")\n",
        "print(outputs[0])"
      ],
      "metadata": {
        "id": "giywPxHYrPpe",
        "colab": {
          "base_uri": "https://localhost:8080/"
        },
        "outputId": "e4a65b46-7de7-4dc7-d1b7-7f7493d12e23"
      },
      "execution_count": 113,
      "outputs": [
        {
          "output_type": "stream",
          "name": "stdout",
          "text": [
            "[[ 27.125885  -17.013296   -2.1001096  10.179194  -17.4911     32.779434\n",
            "   -7.479247    0.7443135 -13.063065  -11.356445 ]]\n"
          ]
        }
      ]
    },
    {
      "cell_type": "code",
      "source": [
        ""
      ],
      "metadata": {
        "id": "_bLcrZ13Oya5"
      },
      "execution_count": null,
      "outputs": []
    }
  ],
  "metadata": {
    "colab": {
      "name": "Arabic Handwritten Digits Dataset.ipynb",
      "provenance": [],
      "collapsed_sections": [],
      "authorship_tag": "ABX9TyOfFUvAC0KxGJfKY7zwwBax",
      "include_colab_link": true
    },
    "kernelspec": {
      "display_name": "Python 3",
      "name": "python3"
    },
    "language_info": {
      "name": "python"
    },
    "accelerator": "GPU"
  },
  "nbformat": 4,
  "nbformat_minor": 0
}